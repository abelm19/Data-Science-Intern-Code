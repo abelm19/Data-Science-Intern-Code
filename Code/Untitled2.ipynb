{
 "cells": [
  {
   "cell_type": "code",
   "execution_count": 1,
   "id": "5119bfdd-1759-4ac9-a391-b6da4ee5d869",
   "metadata": {},
   "outputs": [
    {
     "name": "stdout",
     "output_type": "stream",
     "text": [
      "Hello\n"
     ]
    }
   ],
   "source": [
    "print(\"Hello\")"
   ]
  },
  {
   "cell_type": "code",
   "execution_count": 7,
   "id": "dbc2693d-3bba-440f-921e-9810f28b6178",
   "metadata": {},
   "outputs": [
    {
     "name": "stdout",
     "output_type": "stream",
     "text": [
      "The Sum of a and b is 30\n"
     ]
    }
   ],
   "source": [
    "a = 10\n",
    "b = 20\n",
    "print(\"The Sum of a and b is\" , (a+b))"
   ]
  },
  {
   "cell_type": "code",
   "execution_count": 13,
   "id": "f8f5b2ef-e685-4267-a145-31b57710ee58",
   "metadata": {},
   "outputs": [
    {
     "name": "stdout",
     "output_type": "stream",
     "text": [
      "nice\n"
     ]
    },
    {
     "data": {
      "text/plain": [
       "str"
      ]
     },
     "execution_count": 13,
     "metadata": {},
     "output_type": "execute_result"
    }
   ],
   "source": [
    "strings = \"nice\"\n",
    "print(strings)\n",
    "type(strings)"
   ]
  },
  {
   "cell_type": "code",
   "execution_count": 15,
   "id": "57c06a18-b45a-477f-b308-f4da87234455",
   "metadata": {},
   "outputs": [
    {
     "name": "stdout",
     "output_type": "stream",
     "text": [
      "6\n"
     ]
    }
   ],
   "source": [
    "c = 2\n",
    "d = 3\n",
    "t = True\n",
    "print(c + d + t)"
   ]
  },
  {
   "cell_type": "code",
   "execution_count": 19,
   "id": "855b6d01-264e-4906-b05c-49fb82f47c13",
   "metadata": {},
   "outputs": [
    {
     "name": "stdout",
     "output_type": "stream",
     "text": [
      "7\n"
     ]
    }
   ],
   "source": [
    "print(int(7.9))"
   ]
  },
  {
   "cell_type": "code",
   "execution_count": 21,
   "id": "cb0a63b5-23e2-447b-a2c2-c4b4b9dc6d23",
   "metadata": {},
   "outputs": [
    {
     "name": "stdout",
     "output_type": "stream",
     "text": [
      "<class 'float'>\n"
     ]
    }
   ],
   "source": [
    "print(type(3.5))"
   ]
  },
  {
   "cell_type": "code",
   "execution_count": 23,
   "id": "308b652f-00bc-4625-857d-11314bbcbaa0",
   "metadata": {},
   "outputs": [
    {
     "name": "stdout",
     "output_type": "stream",
     "text": [
      "33\n"
     ]
    }
   ],
   "source": [
    "print(int(33.789))"
   ]
  },
  {
   "cell_type": "code",
   "execution_count": 35,
   "id": "24ea9718-8f51-4cbc-afc6-7163475abe10",
   "metadata": {},
   "outputs": [
    {
     "ename": "ValueError",
     "evalue": "invalid literal for int() with base 10: 'ten'",
     "output_type": "error",
     "traceback": [
      "\u001b[0;31m---------------------------------------------------------------------------\u001b[0m",
      "\u001b[0;31mValueError\u001b[0m                                Traceback (most recent call last)",
      "Cell \u001b[0;32mIn[35], line 1\u001b[0m\n\u001b[0;32m----> 1\u001b[0m \u001b[38;5;28mprint\u001b[39m(\u001b[38;5;28mint\u001b[39m(\u001b[38;5;124m\"\u001b[39m\u001b[38;5;124mten\u001b[39m\u001b[38;5;124m\"\u001b[39m))\n",
      "\u001b[0;31mValueError\u001b[0m: invalid literal for int() with base 10: 'ten'"
     ]
    }
   ],
   "source": [
    "print(int(\"ten\"))"
   ]
  },
  {
   "cell_type": "code",
   "execution_count": 41,
   "id": "e848ccb6-3667-4b55-818b-2ce13e2389fa",
   "metadata": {},
   "outputs": [
    {
     "name": "stdout",
     "output_type": "stream",
     "text": [
      "True\n"
     ]
    }
   ],
   "source": [
    "print(bool(0.001))"
   ]
  },
  {
   "cell_type": "code",
   "execution_count": 60,
   "id": "2d18293a-43e2-477a-a23d-a6a392a4787c",
   "metadata": {},
   "outputs": [
    {
     "name": "stdout",
     "output_type": "stream",
     "text": [
      "python\n",
      "python\n",
      "programming\n",
      "programming\n"
     ]
    }
   ],
   "source": [
    "s = \"pythonprogramming\"\n",
    "print(s[0:6])\n",
    "print(s[:6])\n",
    "print(s[6:])\n",
    "print(s[-11:])"
   ]
  },
  {
   "cell_type": "code",
   "execution_count": 78,
   "id": "069bb5c4-2fae-4176-86a8-309972cdbfd9",
   "metadata": {},
   "outputs": [
    {
     "name": "stdout",
     "output_type": "stream",
     "text": [
      "[1, 2, 3]\n",
      "[1, 2, 3]\n",
      "[1, 4, 7]\n",
      "[1, 2, 3]\n",
      "[7, 5, 3, 1]\n",
      "3.3333333333333335\n"
     ]
    }
   ],
   "source": [
    "#Slicing practice with lists, strings and negative indexing\n",
    "my_list = [1,2,3,4,5,6,7]\n",
    "print(my_list[:3])\n",
    "print(my_list[0:3])\n",
    "print(my_list[::3])\n",
    "print(my_list[-7:-4])\n",
    "print(my_list[::-2])\n",
    "print(10/3)"
   ]
  },
  {
   "cell_type": "code",
   "execution_count": 80,
   "id": "4b5614ba-f4d3-4f66-814d-0ed123149744",
   "metadata": {},
   "outputs": [
    {
     "name": "stdout",
     "output_type": "stream",
     "text": [
      "False\n"
     ]
    }
   ],
   "source": [
    "print(5>5)"
   ]
  },
  {
   "cell_type": "code",
   "execution_count": 86,
   "id": "0ac42d64-0f84-4cd7-b101-4d998225b890",
   "metadata": {},
   "outputs": [
    {
     "name": "stdout",
     "output_type": "stream",
     "text": [
      "True\n"
     ]
    }
   ],
   "source": [
    "print(1==True)"
   ]
  },
  {
   "cell_type": "code",
   "execution_count": 90,
   "id": "91ae6134-a865-4420-8e64-26d3c894f9e6",
   "metadata": {},
   "outputs": [
    {
     "name": "stdout",
     "output_type": "stream",
     "text": [
      "False\n"
     ]
    }
   ],
   "source": [
    "print(10==\"10\")"
   ]
  },
  {
   "cell_type": "code",
   "execution_count": 92,
   "id": "3929da99-7441-4819-99a0-62f656d63ec9",
   "metadata": {},
   "outputs": [
    {
     "name": "stdout",
     "output_type": "stream",
     "text": [
      "Either a or b is greater than 0\n"
     ]
    }
   ],
   "source": [
    "a = 10\n",
    "b = 20\n",
    "if a > 0 or b > 0:\n",
    "    print(\"Either a or b is greater than 0\")\n",
    "else: \n",
    "    print(\"Both not zero\")"
   ]
  },
  {
   "cell_type": "code",
   "execution_count": 102,
   "id": "b1bcd5fe-7cdc-4fa6-b7d8-bd39125ebfd1",
   "metadata": {},
   "outputs": [
    {
     "name": "stdout",
     "output_type": "stream",
     "text": [
      "15\n",
      "3\n"
     ]
    }
   ],
   "source": [
    "a = 12 #1100\n",
    "b = 3 #0011\n",
    "print(a ^ b)\n",
    "print(a >> 2)"
   ]
  },
  {
   "cell_type": "code",
   "execution_count": 120,
   "id": "68514bfc-d5b6-4966-a00a-b151ac8c71bc",
   "metadata": {},
   "outputs": [
    {
     "name": "stdout",
     "output_type": "stream",
     "text": [
      "3\n"
     ]
    }
   ],
   "source": [
    "c = 33\n",
    "c %= 10\n",
    "print(c)"
   ]
  },
  {
   "cell_type": "code",
   "execution_count": 132,
   "id": "12199897-7f16-43ef-bb53-562f0f93ac53",
   "metadata": {},
   "outputs": [
    {
     "name": "stdout",
     "output_type": "stream",
     "text": [
      "33.2\n",
      "3\n",
      "[32.5, 30.5, 34, 33.2, 34.5, 33.6]\n",
      "[33.9, 32.5, 30.5, 34, 33.2, 34.5, 33.6]\n",
      "[32.5, 30.5, 34, 33.2, 34.5, 33.6]\n",
      "[30.5, 34, 33.2, 34.5, 33.6]\n"
     ]
    }
   ],
   "source": [
    "dt = [32.5, 30.5, 34, 33.2, 34.5]\n",
    "print(dt[3])\n",
    "print(dt.index(33.2))\n",
    "dt.append(33.6)\n",
    "print(dt)\n",
    "dt.insert(0,33.9)\n",
    "print(dt)\n",
    "dt.remove(33.9)\n",
    "print(dt)\n",
    "del dt[0]\n",
    "print(dt)"
   ]
  },
  {
   "cell_type": "code",
   "execution_count": 138,
   "id": "951a254d-9c99-4315-ae8f-c3d17a9b4cd2",
   "metadata": {},
   "outputs": [
    {
     "name": "stdout",
     "output_type": "stream",
     "text": [
      "33.2\n",
      "3\n",
      "[32.5, 30.5, 34, 33.2, 34.5]\n"
     ]
    }
   ],
   "source": [
    "dt = (32.5, 30.5, 34, 33.2, 34.5)\n",
    "print(dt[3])\n",
    "print(dt.index(33.2))\n",
    "dt_list = list(dt)\n",
    "print(dt_list)\n",
    "dt_list.insert(1, 29)"
   ]
  },
  {
   "cell_type": "code",
   "execution_count": null,
   "id": "50f0b442-a42b-4a88-846e-f49535a341d7",
   "metadata": {},
   "outputs": [],
   "source": []
  }
 ],
 "metadata": {
  "kernelspec": {
   "display_name": "Python 3 (ipykernel)",
   "language": "python",
   "name": "python3"
  },
  "language_info": {
   "codemirror_mode": {
    "name": "ipython",
    "version": 3
   },
   "file_extension": ".py",
   "mimetype": "text/x-python",
   "name": "python",
   "nbconvert_exporter": "python",
   "pygments_lexer": "ipython3",
   "version": "3.12.7"
  }
 },
 "nbformat": 4,
 "nbformat_minor": 5
}
